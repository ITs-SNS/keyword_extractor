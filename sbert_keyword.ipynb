{
 "cells": [
  {
   "cell_type": "code",
   "execution_count": 1,
   "id": "46f3a569",
   "metadata": {},
   "outputs": [
    {
     "name": "stdout",
     "output_type": "stream",
     "text": [
      "Requirement already satisfied: sentence_transformers in /opt/anaconda3/envs/kobert_ner/lib/python3.7/site-packages (2.2.0)\n",
      "Requirement already satisfied: nltk in /opt/anaconda3/envs/kobert_ner/lib/python3.7/site-packages (from sentence_transformers) (3.7)\n",
      "Requirement already satisfied: tqdm in /opt/anaconda3/envs/kobert_ner/lib/python3.7/site-packages (from sentence_transformers) (4.60.0)\n",
      "Requirement already satisfied: huggingface-hub in /opt/anaconda3/envs/kobert_ner/lib/python3.7/site-packages (from sentence_transformers) (0.5.1)\n",
      "Requirement already satisfied: scikit-learn in /opt/anaconda3/envs/kobert_ner/lib/python3.7/site-packages (from sentence_transformers) (0.24.1)\n",
      "Requirement already satisfied: sentencepiece in /opt/anaconda3/envs/kobert_ner/lib/python3.7/site-packages (from sentence_transformers) (0.1.95)\n",
      "Requirement already satisfied: torchvision in /opt/anaconda3/envs/kobert_ner/lib/python3.7/site-packages (from sentence_transformers) (0.12.0)\n",
      "Requirement already satisfied: scipy in /opt/anaconda3/envs/kobert_ner/lib/python3.7/site-packages (from sentence_transformers) (1.6.3)\n",
      "Requirement already satisfied: numpy in /opt/anaconda3/envs/kobert_ner/lib/python3.7/site-packages (from sentence_transformers) (1.21.5)\n",
      "Requirement already satisfied: transformers<5.0.0,>=4.6.0 in /opt/anaconda3/envs/kobert_ner/lib/python3.7/site-packages (from sentence_transformers) (4.18.0)\n",
      "Requirement already satisfied: torch>=1.6.0 in /opt/anaconda3/envs/kobert_ner/lib/python3.7/site-packages (from sentence_transformers) (1.11.0)\n",
      "Requirement already satisfied: typing-extensions in /opt/anaconda3/envs/kobert_ner/lib/python3.7/site-packages (from torch>=1.6.0->sentence_transformers) (4.2.0)\n",
      "Requirement already satisfied: packaging>=20.0 in /opt/anaconda3/envs/kobert_ner/lib/python3.7/site-packages (from transformers<5.0.0,>=4.6.0->sentence_transformers) (21.3)\n",
      "Requirement already satisfied: regex!=2019.12.17 in /opt/anaconda3/envs/kobert_ner/lib/python3.7/site-packages (from transformers<5.0.0,>=4.6.0->sentence_transformers) (2022.4.24)\n",
      "Requirement already satisfied: requests in /opt/anaconda3/envs/kobert_ner/lib/python3.7/site-packages (from transformers<5.0.0,>=4.6.0->sentence_transformers) (2.25.1)\n",
      "Requirement already satisfied: filelock in /opt/anaconda3/envs/kobert_ner/lib/python3.7/site-packages (from transformers<5.0.0,>=4.6.0->sentence_transformers) (3.0.12)\n",
      "Requirement already satisfied: sacremoses in /opt/anaconda3/envs/kobert_ner/lib/python3.7/site-packages (from transformers<5.0.0,>=4.6.0->sentence_transformers) (0.0.45)\n",
      "Requirement already satisfied: pyyaml>=5.1 in /opt/anaconda3/envs/kobert_ner/lib/python3.7/site-packages (from transformers<5.0.0,>=4.6.0->sentence_transformers) (6.0)\n",
      "Requirement already satisfied: tokenizers!=0.11.3,<0.13,>=0.11.1 in /opt/anaconda3/envs/kobert_ner/lib/python3.7/site-packages (from transformers<5.0.0,>=4.6.0->sentence_transformers) (0.12.1)\n",
      "Requirement already satisfied: importlib-metadata in /opt/anaconda3/envs/kobert_ner/lib/python3.7/site-packages (from transformers<5.0.0,>=4.6.0->sentence_transformers) (4.11.3)\n",
      "Requirement already satisfied: pyparsing!=3.0.5,>=2.0.2 in /opt/anaconda3/envs/kobert_ner/lib/python3.7/site-packages (from packaging>=20.0->transformers<5.0.0,>=4.6.0->sentence_transformers) (3.0.4)\n",
      "Requirement already satisfied: zipp>=0.5 in /opt/anaconda3/envs/kobert_ner/lib/python3.7/site-packages (from importlib-metadata->transformers<5.0.0,>=4.6.0->sentence_transformers) (3.8.0)\n",
      "Requirement already satisfied: joblib in /opt/anaconda3/envs/kobert_ner/lib/python3.7/site-packages (from nltk->sentence_transformers) (1.0.1)\n",
      "Requirement already satisfied: click in /opt/anaconda3/envs/kobert_ner/lib/python3.7/site-packages (from nltk->sentence_transformers) (7.1.2)\n",
      "Requirement already satisfied: certifi>=2017.4.17 in /opt/anaconda3/envs/kobert_ner/lib/python3.7/site-packages (from requests->transformers<5.0.0,>=4.6.0->sentence_transformers) (2021.10.8)\n",
      "Requirement already satisfied: urllib3<1.27,>=1.21.1 in /opt/anaconda3/envs/kobert_ner/lib/python3.7/site-packages (from requests->transformers<5.0.0,>=4.6.0->sentence_transformers) (1.26.5)\n",
      "Requirement already satisfied: chardet<5,>=3.0.2 in /opt/anaconda3/envs/kobert_ner/lib/python3.7/site-packages (from requests->transformers<5.0.0,>=4.6.0->sentence_transformers) (4.0.0)\n",
      "Requirement already satisfied: idna<3,>=2.5 in /opt/anaconda3/envs/kobert_ner/lib/python3.7/site-packages (from requests->transformers<5.0.0,>=4.6.0->sentence_transformers) (2.10)\n",
      "Requirement already satisfied: six in /opt/anaconda3/envs/kobert_ner/lib/python3.7/site-packages (from sacremoses->transformers<5.0.0,>=4.6.0->sentence_transformers) (1.16.0)\n",
      "Requirement already satisfied: threadpoolctl>=2.0.0 in /opt/anaconda3/envs/kobert_ner/lib/python3.7/site-packages (from scikit-learn->sentence_transformers) (2.1.0)\n",
      "Requirement already satisfied: pillow!=8.3.*,>=5.3.0 in /opt/anaconda3/envs/kobert_ner/lib/python3.7/site-packages (from torchvision->sentence_transformers) (9.0.1)\n",
      "Requirement already satisfied: konlpy in /opt/anaconda3/envs/kobert_ner/lib/python3.7/site-packages (0.5.2)\n",
      "Requirement already satisfied: beautifulsoup4==4.6.0 in /opt/anaconda3/envs/kobert_ner/lib/python3.7/site-packages (from konlpy) (4.6.0)\n",
      "Requirement already satisfied: tweepy>=3.7.0 in /opt/anaconda3/envs/kobert_ner/lib/python3.7/site-packages (from konlpy) (3.10.0)\n",
      "Requirement already satisfied: lxml>=4.1.0 in /opt/anaconda3/envs/kobert_ner/lib/python3.7/site-packages (from konlpy) (4.6.5)\n",
      "Requirement already satisfied: numpy>=1.6 in /opt/anaconda3/envs/kobert_ner/lib/python3.7/site-packages (from konlpy) (1.21.5)\n",
      "Requirement already satisfied: colorama in /opt/anaconda3/envs/kobert_ner/lib/python3.7/site-packages (from konlpy) (0.4.4)\n",
      "Requirement already satisfied: JPype1>=0.7.0 in /opt/anaconda3/envs/kobert_ner/lib/python3.7/site-packages (from konlpy) (1.2.1)\n",
      "Requirement already satisfied: typing-extensions in /opt/anaconda3/envs/kobert_ner/lib/python3.7/site-packages (from JPype1>=0.7.0->konlpy) (4.2.0)\n",
      "Requirement already satisfied: requests[socks]>=2.11.1 in /opt/anaconda3/envs/kobert_ner/lib/python3.7/site-packages (from tweepy>=3.7.0->konlpy) (2.25.1)\n",
      "Requirement already satisfied: six>=1.10.0 in /opt/anaconda3/envs/kobert_ner/lib/python3.7/site-packages (from tweepy>=3.7.0->konlpy) (1.16.0)\n",
      "Requirement already satisfied: requests-oauthlib>=0.7.0 in /opt/anaconda3/envs/kobert_ner/lib/python3.7/site-packages (from tweepy>=3.7.0->konlpy) (1.3.0)\n",
      "Requirement already satisfied: oauthlib>=3.0.0 in /opt/anaconda3/envs/kobert_ner/lib/python3.7/site-packages (from requests-oauthlib>=0.7.0->tweepy>=3.7.0->konlpy) (3.1.0)\n",
      "Requirement already satisfied: urllib3<1.27,>=1.21.1 in /opt/anaconda3/envs/kobert_ner/lib/python3.7/site-packages (from requests[socks]>=2.11.1->tweepy>=3.7.0->konlpy) (1.26.5)\n",
      "Requirement already satisfied: certifi>=2017.4.17 in /opt/anaconda3/envs/kobert_ner/lib/python3.7/site-packages (from requests[socks]>=2.11.1->tweepy>=3.7.0->konlpy) (2021.10.8)\n",
      "Requirement already satisfied: chardet<5,>=3.0.2 in /opt/anaconda3/envs/kobert_ner/lib/python3.7/site-packages (from requests[socks]>=2.11.1->tweepy>=3.7.0->konlpy) (4.0.0)\n",
      "Requirement already satisfied: idna<3,>=2.5 in /opt/anaconda3/envs/kobert_ner/lib/python3.7/site-packages (from requests[socks]>=2.11.1->tweepy>=3.7.0->konlpy) (2.10)\n",
      "Requirement already satisfied: PySocks!=1.5.7,>=1.5.6 in /opt/anaconda3/envs/kobert_ner/lib/python3.7/site-packages (from requests[socks]>=2.11.1->tweepy>=3.7.0->konlpy) (1.7.1)\n"
     ]
    }
   ],
   "source": [
    "!pip install sentence_transformers\n",
    "!pip install konlpy"
   ]
  },
  {
   "cell_type": "code",
   "execution_count": 2,
   "id": "7eeb6f18",
   "metadata": {},
   "outputs": [],
   "source": [
    "import numpy as np\n",
    "import itertools\n",
    "\n",
    "from konlpy.tag import Hannanum\n",
    "from sklearn.feature_extraction.text import CountVectorizer\n",
    "from sklearn.metrics.pairwise import cosine_similarity\n",
    "from sentence_transformers import SentenceTransformer\n",
    "from krwordrank.word import summarize_with_keywords"
   ]
  },
  {
   "cell_type": "code",
   "execution_count": 3,
   "id": "3016bbe8",
   "metadata": {},
   "outputs": [],
   "source": [
    "hannanum = Hannanum()\n",
    "\n",
    "min_count = 2   # 단어의 최소 출현 빈도수 (그래프 생성 시)\n",
    "max_length = 10 # 단어의 최대 길이\n",
    "beta = 0.85    # PageRank의 decaying factor beta\n",
    "max_iter = 10\n",
    "#한국어 불용어\n",
    "stop_words=\"아 휴 아이구 아이쿠 아이고 어 나 우리 저희 따라 의해 을 를 에 의 가 으로 로 에게 뿐이다 의거하여 근거하여 입각하여 기준으로 예하면 예를 들면 예를 들자면 저 소인 소생 저희 지말고 하지마 하지마라 다른 물론 또한 그리고 비길수 없다 해서는 안된다 뿐만 아니라 만이 아니다 만은 아니다 막론하고 관계없이 그치지 않다 그러나 그런데 하지만 든간에 논하지 않다 따지지 않다 설사 비록 더라도 아니면 만 못하다 하는 편이 낫다 불문하고 향하여 향해서 향하다 쪽으로 틈타 이용하여 타다 오르다 제외하고 이 외에 이 밖에 하여야 비로소 한다면 몰라도 외에도 이곳 여기 부터 기점으로 따라서 할 생각이다 하려고하다 이리하여 그리하여 그렇게 함으로써 하지만 일때 할때 앞에서 중에서 보는데서 으로써 로써 까지 해야한다 일것이다 반드시 할줄알다 할수있다 할수있어 임에 틀림없다 한다면 등 등등 제 겨우 단지 다만 할뿐 딩동 댕그 대해서 대하여 대하면 훨씬 얼마나 얼마만큼 얼마큼 남짓 여 얼마간 약간 다소 좀 조금 다수 몇 얼마 지만 하물며 또한 그러나 그렇지만 하지만 이외에도 대해 말하자면 뿐이다 다음에 반대로 반대로 말하자면 이와 반대로 바꾸어서 말하면 바꾸어서 한다면 만약 그렇지않으면 까악 툭 딱 삐걱거리다 보드득 비걱거리다 꽈당 응당 해야한다 에 가서 각 각각 여러분 각종 각자 제각기 하도록하다 와 과 그러므로 그래서 고로 한 까닭에 하기 때문에 거니와 이지만 대하여 관하여 관한 과연 실로 아니나다를가 생각한대로 진짜로 한적이있다 하곤하였다 하 하하 허허 아하 거바 와 오 왜 어째서 무엇때문에 어찌 하겠는가 무슨 어디 어느곳 더군다나 하물며 더욱이는 어느때 언제 야 이봐 어이 여보시오 흐흐 흥 휴 헉헉 헐떡헐떡 영차 여차 어기여차 끙끙 아야 앗 아야 콸콸 졸졸 좍좍 뚝뚝 주룩주룩 솨 우르르 그래도 또 그리고 바꾸어말하면 바꾸어말하자면 혹은 혹시 답다 및 그에 따르는 때가 되어 즉 지든지 설령 가령 하더라도 할지라도 일지라도 지든지 몇 거의 하마터면 인젠 이젠 된바에야 된이상 만큼 어찌됏든 그위에 게다가 점에서 보아 비추어 보아 고려하면 하게될것이다 일것이다 비교적 좀 보다더 비하면 시키다 하게하다 할만하다 의해서 연이서 이어서 잇따라 뒤따라 뒤이어 결국 의지하여 기대여 통하여 자마자 더욱더 불구하고 얼마든지 마음대로 주저하지 않고 곧 즉시 바로 당장 하자마자 밖에 안된다 하면된다 그래 그렇지 요컨대 다시 말하자면 바꿔 말하면 즉 구체적으로 말하자면 시작하여 시초에 이상 허 헉 허걱 바와같이 해도좋다 해도된다 게다가 더구나 하물며 와르르 팍 퍽 펄렁 동안 이래 하고있었다 이었다 에서 로부터 까지 예하면 했어요 해요 함께 같이 더불어 마저 마저도 양자 모두 습니다 가까스로 하려고하다 즈음하여 다른 다른 방면으로 해봐요 습니까 했어요 말할것도 없고 무릎쓰고 개의치않고 하는것만 못하다 하는것이 낫다 매 매번 들 모 어느것 어느 로써 갖고말하자면 어디 어느쪽 어느것 어느해 어느 년도 라 해도 언젠가 어떤것 어느것 저기 저쪽 저것 그때 그럼 그러면 요만한걸 그래 그때 저것만큼 그저 이르기까지 할 줄 안다 할 힘이 있다 너 너희 당신 어찌 설마 차라리 할지언정 할지라도 할망정 할지언정 구토하다 게우다 토하다 메쓰겁다 옆사람 퉤 쳇 의거하여 근거하여 의해 따라 힘입어 그 다음 버금 두번째로 기타 첫번째로 나머지는 그중에서 견지에서 형식으로 쓰여 입장에서 위해서 단지 의해되다 하도록시키다 뿐만아니라 반대로 전후 전자 앞의것 잠시 잠깐 하면서 그렇지만 다음에 그러한즉 그런즉 남들 아무거나 어찌하든지 같다 비슷하다 예컨대 이럴정도로 어떻게 만약 만일 위에서 서술한바와같이 인 듯하다 하지 않는다면 만약에 무엇 무슨 어느 어떤 아래윗 조차 한데 그럼에도 불구하고 여전히 심지어 까지도 조차도 하지 않도록 않기 위하여 때 시각 무렵 시간 동안 어때 어떠한 하여금 네 예 우선 누구 누가 알겠는가 아무도 줄은모른다 줄은 몰랏다 하는 김에 겸사겸사 하는바 그런 까닭에 한 이유는 그러니 그러니까 때문에 그 너희 그들 너희들 타인 것 것들 너 위하여 공동으로 동시에 하기 위하여 어찌하여 무엇때문에 붕붕 윙윙 나 우리 엉엉 휘익 윙윙 오호 아하 어쨋든 만 못하다 하기보다는 차라리 하는 편이 낫다 흐흐 놀라다 상대적으로 말하자면 마치 아니라면 쉿 그렇지 않으면 그렇지 않다면 안 그러면 아니었다면 하든지 아니면 이라면 좋아 알았어 하는것도 그만이다 어쩔수 없다 하나 일 일반적으로 일단 한켠으로는 오자마자 이렇게되면 이와같다면 전부 한마디 한항목 근거로 하기에 아울러 하지 않도록 않기 위해서 이르기까지 이 되다 로 인하여 까닭으로 이유만으로 이로 인하여 그래서 이 때문에 그러므로 그런 까닭에 알 수 있다 결론을 낼 수 있다 으로 인하여 있다 어떤것 관계가 있다 관련이 있다 연관되다 어떤것들 에 대해 이리하여 그리하여 여부 하기보다는 하느니 하면 할수록 운운 이러이러하다 하구나 하도다 다시말하면 다음으로 에 있다 에 달려 있다 우리 우리들 오히려 하기는한데 어떻게 어떻해 어찌됏어 어때 어째서 본대로 자 이 이쪽 여기 이것 이번 이렇게말하자면 이런 이러한 이와 같은 요만큼 요만한 것 얼마 안 되는 것 이만큼 이 정도의 이렇게 많은 것 이와 같다 이때 이렇구나 것과 같이 끼익 삐걱 따위 와 같은 사람들 부류의 사람들 왜냐하면 중의하나 오직 오로지 에 한하다 하기만 하면 도착하다 까지 미치다 도달하다 정도에 이르다 할 지경이다 결과에 이르다 관해서는 여러분 하고 있다 한 후 혼자 자기 자기집 자신 우에 종합한것과같이 총적으로 보면 총적으로 말하면 총적으로 대로 하다 으로서 참 그만이다 할 따름이다 쿵 탕탕 쾅쾅 둥둥 봐 봐라 아이야 아니 와아 응 아이 참나 년 월 일 령 영 일 이 삼 사 오 육 륙 칠 팔 구 이천육 이천칠 이천팔 이천구 하나 둘 셋 넷 다섯 여섯 일곱 여덟 아홉 령 영 이 있 하 것 들 그 되 수 이 보 않 없 나 사람 주 아니 등 같 우리 때 년 가 한 지 대하 오 말 일 그렇 위하 때문 그것 두 말하 알 그러나 받 못하 일 그런 또 문제 더 사회 많 그리고 좋 크 따르 중 나오 가지 씨 시키 만들 지금 생각하 그러 속 하나 집 살 모르 적 월 데 자신 안 어떤 내 내 경우 명 생각 시간 그녀 다시 이런 앞 보이 번 나 다른 어떻 여자 개 전 들 사실 이렇 점 싶 말 정도 좀 원 잘 통하 놓\"\n",
    "stop_words=stop_words.split(' ')\n",
    "\n",
    "# SBERT를 로드\n",
    "model = SentenceTransformer('sentence-transformers/xlm-r-100langs-bert-base-nli-stsb-mean-tokens')"
   ]
  },
  {
   "cell_type": "code",
   "execution_count": 4,
   "id": "d1e650ae",
   "metadata": {
    "scrolled": true
   },
   "outputs": [
    {
     "name": "stdout",
     "output_type": "stream",
     "text": [
      "['비대면의 일상화와 기업들의 디지털 전환 등으로 정보 보안의 중요성이 커지고 있다', '지난해 애플, 구글, 마이크로소프트 등 빅테크기업이 사이버보안기업에 투자한 금액만 23억9700만달러(약 3조원)에 이른다', '이에 비해 한국은 자본금 50억원 미만 기업이 93%(494개)를 차지할 정도로 보안산업이 홀대받고 있다', '○확산하는 사이버테러 공포', '11일 업계에 따르면 정보보안 위협이 심각해지면서 각국 정부는 물론 기업들도 보안을 강화하는 추세다', '러시아가 전쟁에 앞서 우크라이나 정부 전산망과 금융회사에 대규모 사이버 공격을 하면서 사이버전쟁에 대한 공포가 커졌다는 분석이다', '최근 해커그룹 랩서스가 삼성전자와 LG전자, 마이크로소프트, 엔비디아 등 글로벌 기업의 계정 정보와 소스코드를 탈취하는 등 기업 관련 보안 사고도 꾸준히 늘고 있다', '글로벌 기업들은 보안 강화를 위해 과감히 지갑을 열고 있다', '구글은 지난 3월 사이버보안 전문기업 맨디언트를 54억달러(약 6조8000억원)에 인수했다', '2012년 모토로라 모빌리티(125억달러) 이후 가장 투자 규모가 컸던 인수합병(M&A)이다', '맨디언트는 정보 침해 대응 전문기업으로 보안 사고가 일어나면 해킹의 원인과 보완점 등을 알려준다', '마이크로소프트 역시 지난해 7월 클라우드녹스시큐리티와 리스크IQ를 잇달아 인수하면서 클라우드 보안을 강화했다', '미국 시장조사업체 CB인사이트에 따르면 구글, 애플, 마이크로소프트 등 빅테크기업의 지난해 사이버보안기업 투자금액은 역대 최고치인 23억9700만달러에 달했다', '직전 5년(2016~2020년) 투자 금액과 맞먹는 금액이다', '가트너에 따르면 글로벌 정보보안 시장은 2020년 1319억달러(약 168조원)에서 2024년 1887억달러(약 240조400억원)까지 성장할 전망이다', '○걸음마 단계에 머무는 한국', '국내 보안 시장은 여전히 걸음마 단계다', '한국 정보보안기업의 2020년 총매출은 3조9213억원이다', '2014년부터 연평균 14', '5% 성장했으며 이 분야 기업 수는 2020년 기준 531곳이다', '하지만 이 가운데 종사자 20인 미만 기업이 41', '6%(218곳)를 차지한다', '200인 이상 기업은 33곳에 불과하다', '국내에서 시가총액이 1조원을 넘는 곳은 안랩뿐이다', '11일 기준 1조1000억원 수준이다', '이외 주요 기업은 윈스(2341억원) 라온시큐어(1290억원) 파수(1198억원) 등이다', '안랩은 창업자인 안철수 전 대통령직인수위원장의 행보에 따라 주가가 급등락을 반복하고 있다', '보안업계 한 관계자는 국내 최대 보안기업이 정치인 테마주로 분류되는 게 한국 정보보안산업의 현실이라고 지적했다', '지난 6일에는 SK쉴더스가 기업공개(IPO)를 철회하기도 했다', '이 회사는 SK스퀘어 자회사인 정보보안기업 SK인포섹과 물리보안기업 ADT캡스를 통합해 출범한 융합보안기업이다', '지난해 정보보안 매출이 3381억원으로 안랩(2072억원)보다 많다', '하지만 기관투자가 대상 수요예측 결과가 부진해 상장을 포기했다', '임종인 고려대 정보보호대학원 석좌교수는 정부 주도로 인재를 양성해 이들이 스타트업을 설립하고 해외 시장으로 진출해 선순환 구조를 형성한 이스라엘의 사례를 참고할 만하다며 해외 시장 문을 두드릴 수 있는 인재를 키우는 데 초점을 맞춰야 한다고 강조했다']\n"
     ]
    }
   ],
   "source": [
    "doc_with_newlines = \"\"\"\n",
    "비대면의 일상화와 기업들의 디지털 전환 등으로 정보 보안의 중요성이 커지고 있다. 지난해 애플, 구글, 마이크로소프트 등 빅테크기업이 사이버보안기업에 투자한 금액만 23억9700만달러(약 3조원)에 이른다. 이에 비해 한국은 자본금 50억원 미만 기업이 93%(494개)를 차지할 정도로 보안산업이 홀대받고 있다.\n",
    "\n",
    " ○확산하는 사이버테러 공포\n",
    "\n",
    "11일 업계에 따르면 정보보안 위협이 심각해지면서 각국 정부는 물론 기업들도 보안을 강화하는 추세다. 러시아가 전쟁에 앞서 우크라이나 정부 전산망과 금융회사에 대규모 사이버 공격을 하면서 사이버전쟁에 대한 공포가 커졌다는 분석이다. 최근 해커그룹 랩서스가 삼성전자와 LG전자, 마이크로소프트, 엔비디아 등 글로벌 기업의 계정 정보와 소스코드를 탈취하는 등 기업 관련 보안 사고도 꾸준히 늘고 있다.\n",
    "\n",
    "글로벌 기업들은 보안 강화를 위해 과감히 ‘지갑’을 열고 있다. 구글은 지난 3월 사이버보안 전문기업 맨디언트를 54억달러(약 6조8000억원)에 인수했다. 2012년 모토로라 모빌리티(125억달러) 이후 가장 투자 규모가 컸던 인수합병(M&A)이다. 맨디언트는 정보 침해 대응 전문기업으로 보안 사고가 일어나면 해킹의 원인과 보완점 등을 알려준다. 마이크로소프트 역시 지난해 7월 클라우드녹스시큐리티와 리스크IQ를 잇달아 인수하면서 클라우드 보안을 강화했다.\n",
    "\n",
    "미국 시장조사업체 CB인사이트에 따르면 구글, 애플, 마이크로소프트 등 빅테크기업의 지난해 사이버보안기업 투자금액은 역대 최고치인 23억9700만달러에 달했다. 직전 5년(2016~2020년) 투자 금액과 맞먹는 금액이다. 가트너에 따르면 글로벌 정보보안 시장은 2020년 1319억달러(약 168조원)에서 2024년 1887억달러(약 240조400억원)까지 성장할 전망이다.\n",
    "\n",
    " ○걸음마 단계에 머무는 한국\n",
    "\n",
    "국내 보안 시장은 여전히 걸음마 단계다. 한국 정보보안기업의 2020년 총매출은 3조9213억원이다. 2014년부터 연평균 14.5% 성장했으며 이 분야 기업 수는 2020년 기준 531곳이다. 하지만 이 가운데 종사자 20인 미만 기업이 41.6%(218곳)를 차지한다. 200인 이상 기업은 33곳에 불과하다.\n",
    "\n",
    "국내에서 시가총액이 1조원을 넘는 곳은 안랩뿐이다. 11일 기준 1조1000억원 수준이다. 이외 주요 기업은 윈스(2341억원) 라온시큐어(1290억원) 파수(1198억원) 등이다. 안랩은 창업자인 안철수 전 대통령직인수위원장의 행보에 따라 주가가 급등락을 반복하고 있다. 보안업계 한 관계자는 “국내 최대 보안기업이 ‘정치인 테마주’로 분류되는 게 한국 정보보안산업의 현실”이라고 지적했다.\n",
    "\n",
    "지난 6일에는 SK쉴더스가 기업공개(IPO)를 철회하기도 했다. 이 회사는 SK스퀘어 자회사인 정보보안기업 SK인포섹과 물리보안기업 ADT캡스를 통합해 출범한 융합보안기업이다. 지난해 정보보안 매출이 3381억원으로 안랩(2072억원)보다 많다. 하지만 기관투자가 대상 수요예측 결과가 부진해 상장을 포기했다.\n",
    "\n",
    "임종인 고려대 정보보호대학원 석좌교수는 “정부 주도로 인재를 양성해 이들이 스타트업을 설립하고 해외 시장으로 진출해 선순환 구조를 형성한 이스라엘의 사례를 참고할 만하다”며 “해외 시장 문을 두드릴 수 있는 인재를 키우는 데 초점을 맞춰야 한다”고 강조했다.\n",
    "\"\"\"\n",
    "doc=doc_with_newlines.replace(\".\", \"\\n\")\n",
    "doc=doc.replace(\"'\", \"\")\n",
    "doc=doc.replace('\"', \"\")\n",
    "doc=doc.replace(\"“\", \"\")\n",
    "doc=doc.replace(\"”\", \"\")\n",
    "doc=doc.replace(\"‘\", \"\")\n",
    "doc=doc.replace(\"’\", \"\")\n",
    "#문장을 분리하였지만, 아직 앞뒤 공백이 있음\n",
    "temp_texts =  doc.split('\\n')\n",
    "#앞뒤 공백이 제거된 문자열들이 저장되는 list\n",
    "texts=[]\n",
    "for text in temp_texts:\n",
    "    text = text.strip()\n",
    "    if text is not '':\n",
    "        texts.append(text)\n",
    "\n",
    "print(texts)"
   ]
  },
  {
   "cell_type": "code",
   "execution_count": 5,
   "id": "510ea226",
   "metadata": {
    "scrolled": true
   },
   "outputs": [],
   "source": [
    "# 품사 태깅\n",
    "tokenized_doc = hannanum.pos(doc)\n",
    "#print(tokenized_doc)\n",
    "# 형태소 분석기를 통해 명사 추출한 문서를 만듦\n",
    "tokenized_nouns = ' '.join([word[0] for word in tokenized_doc\n",
    "                   if (word[1] == 'N' or word[1] == 'F')\n",
    "                   and not word[0].isdigit() \n",
    "                   and len(word[0])>1\n",
    "                   and word[0] not in stop_words])"
   ]
  },
  {
   "cell_type": "code",
   "execution_count": 6,
   "id": "20dda489",
   "metadata": {},
   "outputs": [],
   "source": [
    "n_gram_range = (1, 1)\n",
    "# CountVectorizer를 사용하여 n-gram을 추출(n_gram_range에 해당하는)\n",
    "count = CountVectorizer(ngram_range=n_gram_range).fit([tokenized_nouns])\n",
    "candidates = count.get_feature_names()"
   ]
  },
  {
   "cell_type": "code",
   "execution_count": 7,
   "id": "bd9ff606",
   "metadata": {
    "scrolled": true
   },
   "outputs": [],
   "source": [
    "#doc를 임베딩\n",
    "doc_embedding = model.encode([doc])\n",
    "#text들을 임베딩\n",
    "texts_embedding = model.encode(texts)\n",
    "#n_gram들을 임베딩\n",
    "candidate_embeddings = model.encode(candidates)"
   ]
  },
  {
   "cell_type": "code",
   "execution_count": 8,
   "id": "332295a0",
   "metadata": {},
   "outputs": [],
   "source": [
    "def max_sum_sim(doc_embedding, candidate_embeddings, words, top_n, nr_candidates):\n",
    "    # 문서와 각 키워드들 간의 유사도\n",
    "    distances = cosine_similarity(doc_embedding, candidate_embeddings)\n",
    "\n",
    "    # 각 키워드들 간의 유사도\n",
    "    distances_candidates = cosine_similarity(candidate_embeddings, \n",
    "                                            candidate_embeddings)\n",
    "\n",
    "    # 코사인 유사도에 기반하여 키워드들 중 상위 top_n개의 단어를 pick.\n",
    "    words_idx = list(distances.argsort()[0][-nr_candidates:])\n",
    "    words_vals = [candidates[index] for index in words_idx]\n",
    "    distances_candidates = distances_candidates[np.ix_(words_idx, words_idx)]\n",
    "\n",
    "    # 각 키워드들 중에서 가장 덜 유사한 키워드들간의 조합을 계산\n",
    "    min_sim = np.inf\n",
    "    candidate = None\n",
    "    for combination in itertools.combinations(range(len(words_idx)), top_n):\n",
    "        sim = sum([distances_candidates[i][j] for i in combination for j in combination if i != j])\n",
    "        if sim < min_sim:\n",
    "            candidate = combination\n",
    "            min_sim = sim\n",
    "\n",
    "    return [words_vals[idx] for idx in candidate]\n"
   ]
  },
  {
   "cell_type": "code",
   "execution_count": 9,
   "id": "d4ecaa58",
   "metadata": {},
   "outputs": [],
   "source": [
    "def mmr(doc_embedding, candidate_embeddings, words, top_n, diversity):\n",
    "\n",
    "    # 문서와 각 키워드들 간의 유사도가 적혀있는 리스트\n",
    "    word_doc_similarity = cosine_similarity(candidate_embeddings, doc_embedding)\n",
    "\n",
    "    # 각 키워드들 간의 유사도\n",
    "    word_similarity = cosine_similarity(candidate_embeddings)\n",
    "\n",
    "    # 문서와 가장 높은 유사도를 가진 키워드의 인덱스를 추출.\n",
    "    # 만약, 2번 문서가 가장 유사도가 높았다면\n",
    "    # keywords_idx = [2]\n",
    "    keywords_idx = [np.argmax(word_doc_similarity)]\n",
    "\n",
    "    # 가장 높은 유사도를 가진 키워드의 인덱스를 제외한 문서의 인덱스들\n",
    "    # 만약, 2번 문서가 가장 유사도가 높았다면\n",
    "    # ==> candidates_idx = [0, 1, 3, 4, 5, 6, 7, 8, 9, 10 ... 중략 ...]\n",
    "    candidates_idx = [i for i in range(len(words)) if i != keywords_idx[0]]\n",
    "\n",
    "    # 최고의 키워드는 이미 추출했으므로 top_n-1번만큼 아래를 반복.\n",
    "    # ex) top_n = 5라면, 아래의 loop는 4번 반복됨.\n",
    "    for _ in range(top_n - 1):\n",
    "        candidate_similarities = word_doc_similarity[candidates_idx, :]\n",
    "        target_similarities = np.max(word_similarity[candidates_idx][:, keywords_idx], axis=1)\n",
    "\n",
    "        # MMR을 계산\n",
    "        mmr = (1-diversity) * candidate_similarities - diversity * target_similarities.reshape(-1, 1)\n",
    "        mmr_idx = candidates_idx[np.argmax(mmr)]\n",
    "\n",
    "        # keywords & candidates를 업데이트\n",
    "        keywords_idx.append(mmr_idx)\n",
    "        candidates_idx.remove(mmr_idx)\n",
    "\n",
    "    return [words[idx] for idx in keywords_idx]"
   ]
  },
  {
   "cell_type": "code",
   "execution_count": 10,
   "id": "70b2aa6d",
   "metadata": {
    "scrolled": true
   },
   "outputs": [
    {
     "name": "stdout",
     "output_type": "stream",
     "text": [
      "['보안산업', '빅테크기업', '해킹', '해커그룹', '사이버전쟁']\n"
     ]
    }
   ],
   "source": [
    "# nr_candidate가 클수록, 키워드간의 유사성이 최소화 됨, 문서와 키워드 사이의 유사성은 극대화\n",
    "final_keywords=max_sum_sim(doc_embedding, candidate_embeddings, candidates, top_n=5, nr_candidates=10)\n",
    "print(final_keywords)"
   ]
  },
  {
   "cell_type": "code",
   "execution_count": 11,
   "id": "879b379e",
   "metadata": {},
   "outputs": [
    {
     "name": "stdout",
     "output_type": "stream",
     "text": [
      "['사이버보안기업', '해커그룹', '보안산업', '빅테크기업', '사이버전쟁']\n"
     ]
    }
   ],
   "source": [
    "# diversity값이 클수록, 키워드간의 유사성이 최소화 됨, 문서와 키워드 사이의 유사성은 극대화\n",
    "final_keywords=mmr(doc_embedding, candidate_embeddings, candidates, top_n=5, diversity=0.2)\n",
    "print(final_keywords)"
   ]
  },
  {
   "cell_type": "code",
   "execution_count": 12,
   "id": "8643d6a9",
   "metadata": {},
   "outputs": [
    {
     "name": "stdout",
     "output_type": "stream",
     "text": [
      "['최근 해커그룹 랩서스가 삼성전자와 LG전자, 마이크로소프트, 엔비디아 등 글로벌 기업의 계정 정보와 소스코드를 탈취하는 등 기업 관련 보안 사고도 꾸준히 늘고 있다', '미국 시장조사업체 CB인사이트에 따르면 구글, 애플, 마이크로소프트 등 빅테크기업의 지난해 사이버보안기업 투자금액은 역대 최고치인 23억9700만달러에 달했다', '이에 비해 한국은 자본금 50억원 미만 기업이 93%(494개)를 차지할 정도로 보안산업이 홀대받고 있다', '비대면의 일상화와 기업들의 디지털 전환 등으로 정보 보안의 중요성이 커지고 있다', '11일 업계에 따르면 정보보안 위협이 심각해지면서 각국 정부는 물론 기업들도 보안을 강화하는 추세다']\n",
      "scan vocabs ... \n",
      "num vocabs = 45\n",
      "done = 10\n",
      "['정보', '따르면', '보안', '기업', '마이크로소프트']\n"
     ]
    }
   ],
   "source": [
    "#mmr을 이용해 문서와 관련높은 text를 5개 뽑아내고 해당에서 krwordrank를 이용하여 키워드 추출\n",
    "\n",
    "new_texts = mmr(doc_embedding, texts_embedding, texts, top_n=5, diversity=0.1)\n",
    "print(new_texts)\n",
    "\n",
    "keywords = summarize_with_keywords(new_texts, min_count=min_count, max_length=max_length,\n",
    "    beta=beta, max_iter=max_iter, stopwords=stop_words, verbose=True)\n",
    "\n",
    "final_keywords=[]\n",
    "\n",
    "for word, score in keywords.items():\n",
    "    final_keywords.append(word);\n",
    "print(final_keywords)"
   ]
  },
  {
   "cell_type": "code",
   "execution_count": 13,
   "id": "d55c2a8e",
   "metadata": {},
   "outputs": [
    {
     "name": "stdout",
     "output_type": "stream",
     "text": [
      "scan vocabs ... \n",
      "num vocabs = 204\n",
      "done = 10\n",
      "['기업', '지난해', '금액', '보안', '한국', '인수', '정보', '마이크로소프트', '기준', '시장', '애플', '성장', '202', '단계', '투자', '사이버', '강화', '정부', '구글,', '공포', '맨디언트', '23억9700만달', '국내', '글로벌', 'SK', '빅테', '11', '클라우', '33', '전문', '1조', '해외', '3조', '인재']\n"
     ]
    }
   ],
   "source": [
    "#전체 텍스트들을 문장 단위로 명사 형태소만 뽑아낸 뒤 krwordrank를 이용하여 키워드 추출\n",
    "\n",
    "\n",
    "\n",
    "new_texts=[]\n",
    "for text in texts:\n",
    "    tokenized_text=hannanum.pos(text)\n",
    "    tokenized_nouns = ' '.join([word[0] for word in tokenized_text\n",
    "                       if (word[1] == 'N' or word[1] == 'F')\n",
    "                       and not word[0].isdigit() \n",
    "                       and len(word[0])>1\n",
    "                       and word[0] not in stop_words])\n",
    "    new_texts.append(tokenized_nouns)\n",
    "\n",
    "keywords = summarize_with_keywords(new_texts, min_count=min_count, max_length=max_length,\n",
    "    beta=beta, max_iter=max_iter, stopwords=stop_words, verbose=True)\n",
    "final_keywords=[]\n",
    "\n",
    "for word, score in keywords.items():\n",
    "    final_keywords.append(word);\n",
    "print(final_keywords);"
   ]
  },
  {
   "cell_type": "code",
   "execution_count": null,
   "id": "3d770b3a",
   "metadata": {},
   "outputs": [],
   "source": []
  },
  {
   "cell_type": "code",
   "execution_count": null,
   "id": "8c731956",
   "metadata": {},
   "outputs": [],
   "source": []
  },
  {
   "cell_type": "code",
   "execution_count": null,
   "id": "9be957fd",
   "metadata": {},
   "outputs": [],
   "source": []
  }
 ],
 "metadata": {
  "kernelspec": {
   "display_name": "Python 3 (ipykernel)",
   "language": "python",
   "name": "python3"
  },
  "language_info": {
   "codemirror_mode": {
    "name": "ipython",
    "version": 3
   },
   "file_extension": ".py",
   "mimetype": "text/x-python",
   "name": "python",
   "nbconvert_exporter": "python",
   "pygments_lexer": "ipython3",
   "version": "3.7.13"
  }
 },
 "nbformat": 4,
 "nbformat_minor": 5
}
